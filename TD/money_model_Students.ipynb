{
 "cells": [
  {
   "cell_type": "markdown",
   "metadata": {},
   "source": [
    "<center><img src='https://drive.google.com/uc?export=view&id=1qJ8NqAZolTBQY7lN-deZ8xEsU3dlUiLz' width=200></center>\n",
    "\n",
    "\n",
    "<h6><center></center></h6>\n",
    "\n",
    "<h1>\n",
    "<hr style=\" border:none; height:3px;\">\n",
    "<center>Agent and Multi-Agent Systems </center>\n",
    "    <center> PW1 : Basic concepts and Mesa Plateform</center>\n",
    "<hr style=\" border:none; height:3px;\">\n",
    "</h1>\n",
    "\n"
   ]
  },
  {
   "cell_type": "markdown",
   "metadata": {},
   "source": [
    "### Part 2: The Mesa platform for Python"
   ]
  },
  {
   "cell_type": "code",
   "execution_count": 1,
   "metadata": {},
   "outputs": [],
   "source": [
    "import mesa\n",
    "import numpy as np\n",
    "import matplotlib.pyplot as plt"
   ]
  },
  {
   "cell_type": "markdown",
   "metadata": {},
   "source": [
    "### 1. Setting up the project"
   ]
  },
  {
   "cell_type": "markdown",
   "metadata": {},
   "source": [
    "#### Documentation\n",
    "\n",
    "To help you during this tutorial, we recommend that you bookmark the [Mesa API documentation](https://mesa.readthedocs.io/en/latest/apis/api_main.html).  "
   ]
  },
  {
   "cell_type": "markdown",
   "metadata": {},
   "source": [
    "#### Mesa Basics\n",
    "\n",
    "Implementing a multi-agent system in Mesa requires to define two core classes:\n",
    "\n",
    "- One for multiagent platform: it will inherit the Mesa Model class;\n",
    "- The other for the agents: it will inherit the Mesa Agent class.\n",
    "\n",
    "The `Model` class holds the model-level attributes, manages the agents, and generally handles the global level of our agent-based model (hence the same). Each instance of the `Model` class will make a specific run of the multi-agent system.\n",
    "\n",
    "The `Agent` class is characterized by a step method that implements the procedural loop. It will be called by the model’s scheduler at runtime for the agents to do whatever you have decided they should do. Agents can access to their model with the `self.mode` attribute.\n",
    "\n",
    "The *scheduler* is a specific component of the model that can be used to control the agent’s runtime. The Mesa platform runs in a synchronous manner and several classes are proposed to ease the scheduling process. They all have in common two properties:\n",
    "\n",
    "- Their constructor takes an instance of `Model` as parameter;\n",
    "- They all implement a `step` method that calls the `step` method of each agent once.\n",
    "\n",
    "In this session, we shall use the Mesa `RandomActivation` scheduler from the `mesa.time` package. Its step method invokes all agents in a random order.\n",
    "\n",
    "With these three components in mind, take a close look to the skeleton of a Mesa multiagent system:"
   ]
  },
  {
   "cell_type": "code",
   "execution_count": 2,
   "metadata": {},
   "outputs": [],
   "source": [
    "# This is an example, do not run the entry\n",
    "\n",
    "from mesa import Agent, Model\n",
    "from mesa.time import RandomActivation\n",
    "\n",
    "# let's create a class for our agents\n",
    "class MyAgent(Agent):\n",
    "    def __init__(self, unique_id, model):\n",
    "        super().__init__(unique_id, model)\n",
    "        #... define local variables here ...\n",
    "    def step(self):\n",
    "        #... define the perception-deliberation-action loop here ...\n",
    "        pass\n",
    "\n",
    "# and now let's create a MAS\n",
    "class MyModel(Model):\n",
    "    def __init__(self):\n",
    "        # we need a scheduler\n",
    "        self.scheduler = RandomActivation(self)\n",
    "        # we need to create agent\n",
    "        a = MyAgent(id, self) # id is generally a number; it must be a different value for each agents\n",
    "        self.scheduler.add(a) # don't forget to add the agent to the scheduler\n",
    "\n",
    "    # and now, we can define methods to control the runtime of the platform\n",
    "    # here are three examples\n",
    "\n",
    "    # 1. this method performs only 1 step for all agents\n",
    "    def one_step(self):\n",
    "        self.scheduler.step()\n",
    "    # 2. this method performs only n steps for all agents\n",
    "    def run_n_steps(self,n):\n",
    "        for i in range(n):\n",
    "            self.one_step()\n",
    "    # 3. this method runs the agent until you stop the code manually\n",
    "    def run_continuously(self):\n",
    "        while(True):\n",
    "            self.one_step()\n",
    "\n",
    "# This is how you start the MAS:\n",
    "m = MyModel()\n",
    "m.run_n_steps(5)"
   ]
  },
  {
   "cell_type": "markdown",
   "metadata": {},
   "source": [
    "The `one_step`, `run_n_step` and `run_continuously` methods are not mandatory: they illustrate the fact that running the agents is done by the scheduler's `step` method, which must be invoked from the model. In this skeleton, our model class creates a random activation scheduler and adds agents to this scheduler. The agent class must define the content of the `step` method that will be called by the scheduler."
   ]
  },
  {
   "cell_type": "markdown",
   "metadata": {},
   "source": [
    "<div class=\"alert alert-block alert-info\"> \n",
    "\n",
    " <b>Questions</b>\n",
    "    \n",
    "Based on the above example, implement a simple Mesa multi-agent system with `N` agents that all have some internal variable with an initial value of `0`. The agents' ids will range from`0` to `N-1`. The procedural loop of the agents performs two actions:\n",
    "\n",
    "- Increase the value of the internal value by `1`;\n",
    "- Print the agent's number and its current internal value.\n",
    "\n",
    "Running three steps of the system with `N=4` should produce the following output (with the agents in random a order):\n",
    "</div> \n",
    "\n"
   ]
  },
  {
   "cell_type": "markdown",
   "metadata": {},
   "source": [
    "Agent 2 has value 1\n",
    "\n",
    "Agent 3 has value 1\n",
    "\n",
    "Agent 1 has value 1\n",
    "\n",
    "Agent 0 has value 1\n",
    "\n",
    "Agent 1 has value 2\n",
    "\n",
    "Agent 2 has value 2\n",
    "\n",
    "Agent 3 has value 2\n",
    "\n",
    "Agent 0 has value 2\n",
    "\n",
    "Agent 0 has value 3\n",
    "\n",
    "Agent 1 has value 3\n",
    "\n",
    "Agent 3 has value 3\n",
    "\n",
    "Agent 2 has value 3"
   ]
  },
  {
   "cell_type": "code",
   "execution_count": 8,
   "metadata": {},
   "outputs": [
    {
     "name": "stdout",
     "output_type": "stream",
     "text": [
      "Agent 1 has a score of 1\n",
      "Agent 0 has a score of 1\n",
      "Agent 3 has a score of 1\n",
      "Agent 2 has a score of 1\n",
      "Agent 4 has a score of 1\n",
      "Agent 0 has a score of 2\n",
      "Agent 4 has a score of 2\n",
      "Agent 3 has a score of 2\n",
      "Agent 1 has a score of 2\n",
      "Agent 2 has a score of 2\n",
      "Agent 3 has a score of 3\n",
      "Agent 0 has a score of 3\n",
      "Agent 4 has a score of 3\n",
      "Agent 2 has a score of 3\n",
      "Agent 1 has a score of 3\n",
      "Agent 4 has a score of 4\n",
      "Agent 1 has a score of 4\n",
      "Agent 2 has a score of 4\n",
      "Agent 3 has a score of 4\n",
      "Agent 0 has a score of 4\n"
     ]
    }
   ],
   "source": [
    "#Answer\n",
    "\n",
    "from mesa import Agent, Model\n",
    "from mesa.time import RandomActivation\n",
    "\n",
    "class MyAgent(Agent):\n",
    "    def __init__(self, unique_id, model):\n",
    "        super().__init__(unique_id, model)\n",
    "        self.score = 0\n",
    "\n",
    "    def step(self):\n",
    "        self.score += 1\n",
    "        print(\"Agent\", self.unique_id, \"has a score of\", self.score)\n",
    "\n",
    "class MyModel(Model):\n",
    "    def __init__(self, N):\n",
    "        self.scheduler = RandomActivation(self)\n",
    "        for i in range(N):\n",
    "            a = MyAgent(i, self)\n",
    "            self.scheduler.add(a)\n",
    "\n",
    "    def one_step(self):\n",
    "        self.scheduler.step()\n",
    "    \n",
    "    def n_steps(self, n):\n",
    "        for _ in range(n):\n",
    "            self.scheduler.step()\n",
    "\n",
    "# start the MAS:\n",
    "m = MyModel(5)\n",
    "# m.one_step()\n",
    "m.n_steps(4)"
   ]
  },
  {
   "cell_type": "markdown",
   "metadata": {},
   "source": [
    "### 2. The Money Example\n",
    "\n",
    "Our goal is to implement a simple agent model in which each agent has only one variable that represents **how much wealth it currently has** (each agent will also have a unique identifier as in the example above). We want the agent to adopt the following behaviour at each step of their execution (i.e. in their procedural loop):\n",
    "\n",
    "- Check their wealth;\n",
    "- If they have the money, give one unit of it away to another random agent.\n",
    "\n",
    "To allow the agent to choose another agent at random, we shall use the `model.random` random-number generator. This works just like Python’s `random` module, but with a fixed seed set when the model is instantiated, that can be used to replicate a specific model run later. To access an agent's wealth, we can use the scheduler’s internal list of all the agents it is scheduled to activate.\n",
    "\n",
    "Note that agents also have a `self.random` attribute that refers to `self.model.random`."
   ]
  },
  {
   "cell_type": "code",
   "execution_count": null,
   "metadata": {},
   "outputs": [],
   "source": [
    "# other_agent = self.random.choice(self.model.scheduler.agents)\n",
    "# other_agent.any_method()"
   ]
  },
  {
   "cell_type": "markdown",
   "metadata": {},
   "source": [
    "<div class=\"alert alert-block alert-info\"> \n",
    "\n",
    " <b>Questions</b>\n",
    "    \n",
    "- Write a class MoneyAgent that implements an agent with the above behaviour.\n",
    "- This code violates one of the principles of MAS we have discussed in this course. Which one?\n",
    "</div> "
   ]
  },
  {
   "cell_type": "code",
   "execution_count": 12,
   "metadata": {},
   "outputs": [],
   "source": [
    "#Answer\n",
    "# \n",
    "\n",
    "from mesa import Agent, Model\n",
    "\n",
    "class MoneyAgent(Agent):\n",
    "    def __init__(self, unique_id, model):\n",
    "        super().__init__(unique_id, model)\n",
    "        self.wealth = 5\n",
    "\n",
    "    def step(self):\n",
    "        if self.wealth > 0:\n",
    "            other_agent = self.random.choice(self.model.scheduler.agents)\n",
    "            other_agent.wealth += 1\n",
    "            self.wealth -= 1"
   ]
  },
  {
   "cell_type": "markdown",
   "metadata": {},
   "source": [
    "#### The Money MAS model"
   ]
  },
  {
   "cell_type": "markdown",
   "metadata": {},
   "source": [
    "<div class=\"alert alert-block alert-info\"> \n",
    "\n",
    " <b>Questions</b>\n",
    "\n",
    "Implement a `MoneyModel` class that creates `N` money-agents. Run some steps of the MAS and store the resulting value of `wealth` for each agent into a Python list. You can then display the result using the matplotlib library:\n",
    "    \n",
    " </div>"
   ]
  },
  {
   "cell_type": "code",
   "execution_count": 13,
   "metadata": {},
   "outputs": [],
   "source": [
    "import matplotlib.pyplot as plt\n",
    "\n",
    "class MoneyModel(Model):\n",
    "    def __init__(self, N):\n",
    "        self.scheduler = RandomActivation(self)\n",
    "        #Define parameters\n",
    "        #Create agents\n",
    "        for id in range(N):\n",
    "            a = MoneyAgent(id, self)\n",
    "            self.scheduler.add(a)\n",
    "\n",
    "    def run_n_steps(self,n):\n",
    "        for _ in range(n):\n",
    "            self.scheduler.step()\n",
    "    \n",
    "    def get_all_agents_wealth(self):\n",
    "        wealth = []\n",
    "        for agent in self.scheduler.agents:\n",
    "            wealth.append(agent.wealth)\n",
    "        return wealth\n",
    "        \n",
    "# the test code is in the next cell"
   ]
  },
  {
   "cell_type": "code",
   "execution_count": 17,
   "metadata": {},
   "outputs": [
    {
     "name": "stdout",
     "output_type": "stream",
     "text": [
      "[6, 11, 1, 10, 2, 7, 2, 4, 2, 5]\n"
     ]
    },
    {
     "data": {
      "image/png": "[encoded data removed]",
      "text/plain": [
       "<Figure size 640x480 with 1 Axes>"
      ]
     },
     "metadata": {},
     "output_type": "display_data"
    }
   ],
   "source": [
    "#A possible running -- you may change it.     \n",
    "model = MoneyModel(10) # 10 agents in our example\n",
    "model.run_n_steps(50)  # 50 steps in our model\n",
    "all_wealth = model.get_all_agents_wealth()\n",
    "print(all_wealth)\n",
    "plt.hist(all_wealth,bins=range(max(all_wealth)+1))\n",
    "plt.show()"
   ]
  },
  {
   "cell_type": "markdown",
   "metadata": {},
   "source": [
    "### 3. Adding a spatial environment\n",
    "\n",
    "Many agent-based models have a spatial element, with agents moving around and interacting with nearby neighbors. Mesa supports two overall kinds of spaces:\n",
    "\n",
    "- Grid spaces: they are divided into cells, and agents can only be on a particular cell, like pieces on a chess board;\n",
    "- Continuous spaces: they allow agents to have any arbitrary position.\n",
    "\n",
    "\n",
    "Both grids and continuous spaces are frequently toroidal, meaning that the edges wrap around, with cells on the right edge connected to those on the left edge, and the top to the bottom. This prevents some cells having fewer neighbors than others, or agents being able to go off the edge of the environment.\n",
    "\n",
    "In our simple model, we will use a grid space in which agents walk at random. Instead of giving their unit of money to any random agent, they will give it to an agent on the same cell. We shall use the Mesa `MultiGrid` class that allows multiple agents to be in the same cell (as opposed to `SimpleGrid` which only allows one agent at a time in each cell). Its constructor receives `width` and `height` parameters, and a `boolean` as to whether the grid is toroidal. We can place agents on a grid with the grid’s `place_agent` method, which takes an agent and an `(x, y)` tuple of the coordinates to place the agent."
   ]
  },
  {
   "cell_type": "code",
   "execution_count": null,
   "metadata": {},
   "outputs": [],
   "source": [
    "#Example\n",
    "\n",
    "from mesa.space import MultiGrid\n",
    "\n",
    "grid = MultiGrid(width, height, toroidal)\n",
    "\n",
    "grid.place_agent(a, (x, y))"
   ]
  },
  {
   "cell_type": "markdown",
   "metadata": {},
   "source": [
    "All these method should be invoked in the model, at the agents’ creation level.\n",
    "\n",
    "Each agent is now provided with a `self.pos` variable that indicates its position in the grid. Moving an agent in the space (i.e. changing its position’s value) is done with the `move_agent` method, which is typically invoked in the agent’s `step` method. It takes as parameter the agent and its new position `(x,y)`."
   ]
  },
  {
   "cell_type": "code",
   "execution_count": null,
   "metadata": {},
   "outputs": [],
   "source": [
    "# This code is invoked from within the Agent class :\n",
    "# - self is the agent\n",
    "# - self.model is the agent model\n",
    "# - self.model.grid is the model's grid space\n",
    "\n",
    "self.model.grid.move_agent( self, (new_x,new_y) )"
   ]
  },
  {
   "cell_type": "markdown",
   "metadata": {},
   "source": [
    "Instead of computing the possible positions manually, you can use the `get_neighbrhood` method which returns all the neighbors of a given cell. This method can get two types of cell neighborhoods: **Moore** (including diagonals), and **Von Neumann** (only up/down/left/right). It also needs an argument as to whether to include the center cell itself as one of the neighbors."
   ]
  },
  {
   "cell_type": "code",
   "execution_count": null,
   "metadata": {},
   "outputs": [],
   "source": [
    "#Example\n",
    "possible_positions = grid.get_neighborhood( (x,y), moore=True, include_center=False )\n",
    "\n",
    "# moving an agent to a random position in this list is then easy:\n",
    "new_position = model.random.choice(possible_positions)\n",
    "grid.move_agent(agent, new_position)"
   ]
  },
  {
   "cell_type": "markdown",
   "metadata": {},
   "source": [
    "Last but not least, one can get the list of agents that occupy a given cell with:"
   ]
  },
  {
   "cell_type": "code",
   "execution_count": null,
   "metadata": {},
   "outputs": [],
   "source": [
    "#Example\n",
    "cellmates = self.model.grid.get_cell_list_contents([self.pos])\n",
    "\n",
    "\n",
    "#cellmates is a list of agents."
   ]
  },
  {
   "cell_type": "markdown",
   "metadata": {},
   "source": [
    "<div class=\"alert alert-block alert-info\"> \n",
    "\n",
    " <b>Questions</b>\n",
    "\n",
    "Modify the previous code (MoneyMAS Model) so that :\n",
    "\n",
    "- The model receives a `width` and `height` as parameters to initiate a toroidal grid space;\n",
    "- All agents are positioned randomly in the space;\n",
    "- At each step, all agents move randomly and then exchange `wealth` with the agents that share their current cell.\n",
    "\n",
    " To make your code easier to read, we recommend that you write two methods in your `MoneyAgent` class:\n",
    "\n",
    "- The `move` method moves the agent to one of its neighbouring cells;\n",
    "- The `share` method modifies the wealth, by sharing the wealth with agents in the sale cell.\n",
    "    \n",
    " </div>"
   ]
  },
  {
   "cell_type": "code",
   "execution_count": 1,
   "metadata": {},
   "outputs": [],
   "source": [
    "#Answer\n",
    "\n",
    "from mesa import Agent, Model\n",
    "from mesa.time import RandomActivation\n",
    "from mesa.space import MultiGrid\n",
    "\n",
    "class MoneyAgent(Agent):\n",
    "    def __init__(self, unique_id, model):\n",
    "        super().__init__(unique_id, model)\n",
    "        #TO COMPLETE\n",
    "        #local variable\n",
    "\n",
    "    def move(self):\n",
    "        #TO COMPLETE\n",
    "\n",
    "    def share(self):\n",
    "        #TO COMPLETE\n",
    "\n",
    "    def step(self):\n",
    "        self.move()\n",
    "        self.share()\n",
    "\n",
    "class MoneyModel(Model):\n",
    "    def __init__(self, N, width, height):\n",
    "        #parameters \n",
    "        #TO COMPLETE\n",
    "            #number of agents\n",
    "            # the scheduller\n",
    "            # The gird\n",
    "        \n",
    "        #creating agents and adding them to the grid\n",
    "        #TO COMPLETE\n",
    "\n",
    "    def run_n_steps(self, n):\n",
    "        #TO COMPLETE\n",
    "        \n",
    "    def get_all_agents_wealth(self):\n",
    "        #TO COMPLETE"
   ]
  },
  {
   "cell_type": "code",
   "execution_count": null,
   "metadata": {},
   "outputs": [],
   "source": [
    "#A possible running\n",
    "\n",
    "model = MoneyModel(20,10,10)  # 20 agents in our example\n",
    "model.run_n_steps(50)  # 50 steps in our model\n",
    "\n",
    "\n",
    "all_wealth = model.get_all_agents_wealth()\n",
    "print(all_wealth)\n",
    "\n",
    "import matplotlib.pyplot as plt\n",
    "\n",
    "plt.hist(all_wealth,bins=range(max(all_wealth)+1))\n",
    "plt.show()"
   ]
  },
  {
   "cell_type": "markdown",
   "metadata": {},
   "source": [
    "#### Viewing the spatial environment\n",
    "\n",
    "\n",
    "Viewing the position of agents might be interesting in such a multi-agent system. We can do it quite easily with the `matplotlib` and `numpy` libraries. We create a `numpy` array of the same size as the grid, filled with zeros. Then we use the `coord_iter` method in the `grid` object, which lets us loop over every cell in the grid, giving us each cell’s coordinates and contents in turn."
   ]
  },
  {
   "cell_type": "code",
   "execution_count": 16,
   "metadata": {},
   "outputs": [
    {
     "data": {
      "image/png": "[encoded data removed]",
      "text/plain": [
       "<Figure size 432x288 with 2 Axes>"
      ]
     },
     "metadata": {
      "needs_background": "light"
     },
     "output_type": "display_data"
    }
   ],
   "source": [
    "# viewing the positions\n",
    "\n",
    "import numpy as np\n",
    "\n",
    "agent_counts = np.zeros((model.grid.width, model.grid.height))\n",
    "for cell in model.grid.coord_iter():\n",
    "    cell_content, x, y = cell\n",
    "    agent_count = len(cell_content)\n",
    "    agent_counts[x][y] = agent_count\n",
    "plt.imshow(agent_counts, interpolation='nearest')\n",
    "plt.colorbar()\n",
    "\n",
    "# If running from a text editor or IDE, remember you'll need the following:\n",
    "plt.show()\n",
    "\n",
    "# Below is an example of what you should see..."
   ]
  }
 ],
 "metadata": {
  "kernelspec": {
   "display_name": "base",
   "language": "python",
   "name": "python3"
  },
  "language_info": {
   "codemirror_mode": {
    "name": "ipython",
    "version": 3
   },
   "file_extension": ".py",
   "mimetype": "text/x-python",
   "name": "python",
   "nbconvert_exporter": "python",
   "pygments_lexer": "ipython3",
   "version": "3.9.13"
  },
  "vscode": {
   "interpreter": {
    "hash": "992fe7c5fc85bbb99cdbb1a7127f4f04531c143f133625dff1af063a39de0f81"
   }
  }
 },
 "nbformat": 4,
 "nbformat_minor": 4
}
